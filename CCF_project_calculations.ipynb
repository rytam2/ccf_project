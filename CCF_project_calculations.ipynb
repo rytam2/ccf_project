{
 "cells": [
  {
   "cell_type": "markdown",
   "id": "4a4bc64b-ad3e-41c1-89c7-bab1c286a139",
   "metadata": {},
   "source": [
    "##### Import Packages "
   ]
  },
  {
   "cell_type": "code",
   "execution_count": null,
   "id": "0898d180-45f6-4053-862e-cd8ef0fa6972",
   "metadata": {},
   "outputs": [],
   "source": [
    "import numpy as np \n",
    "import pandas as pd \n",
    "import xarray as xr \n",
    "import cartopy \n",
    "import glob\n",
    "import matplotlib.pyplot as plt\n",
    "import cartopy\n",
    "import cartopy.crs as ccrs\n",
    "import matplotlib.ticker as mticker\n",
    "import scipy \n",
    "\n",
    "from sklearn.linear_model import LinearRegression\n",
    "from sklearn.pipeline import make_pipeline, make_union\n",
    "import warnings\n",
    "import seaborn as sns\n",
    "from matplotlib.colors import ListedColormap, LinearSegmentedColormap\n",
    "import matplotlib.offsetbox as offsetbox\n",
    "import seaborn.objects as so\n",
    "from seaborn import axes_style\n",
    "import matplotlib as mpl\n",
    "import pickle\n",
    "from matplotlib import cm\n",
    "\n",
    "import matplotlib.colors as mcolors\n",
    "from mpl_toolkits.axes_grid1.inset_locator import inset_axes\n",
    "import matplotlib.gridspec as gridspec\n",
    "import cartopy.feature as cfeature\n",
    "\n",
    "from global_var_and_func import *\n",
    "from plot_func import *\n",
    "\n",
    "\n",
    "warnings.filterwarnings(\"ignore\")\n",
    "#from sklearn_xarray import Stacker, Select"
   ]
  },
  {
   "cell_type": "markdown",
   "id": "79a08310-a900-4237-b743-006447a65806",
   "metadata": {},
   "source": [
    "#### Conventions\n",
    "\n",
    "\n",
    "- `ts`,`eis`,`tadv`,`rh`,`omega`,`ws`: Short-form for all CCFs: sea surface temperature, estimated inversion strength, advected temperature, relative humidmity, subsidence, and surface wind speed.\n",
    "- `fast`, `slow`: Year 1-20 and Year 21-150 response from abrupt-4xCO2 respectively. \n",
    "\n",
    "\n",
    "- `CCF_perglobts`, `dR_CCF_perglobts`: $dCCF/dT_{g}$ or $dR_{CCF}/dT_{g}$ , calculated as the quotient of $dCCF/dt$ or $dR_{CCF}/dt$ and $dT_{g}/dt$.\n",
    "- `_smth`: smoothed"
   ]
  },
  {
   "cell_type": "markdown",
   "id": "379f0225-b47f-4ace-a382-ff912c5528d2",
   "metadata": {},
   "source": [
    "##### Data Import\n",
    "\n",
    "Processed data from `CCF_project_data_processed_EXP.ipynb`, with `EXP` for each experiment. See respective notebooks and manuscript for tables and datasets used from CMIP5 and CMIP 6 data. \n",
    "\n",
    "`Kernel.pkl` are pickled kernel data from [Scott et al. 2020](: https://doi.org/10.1175/JCLI-D-19-1028.1) and [Myers et al. 2021](https://doi.org/10.1038/s41558-021-01039-, accessed from https://github.com/tamyers87/meteorological_cloud_radiative_kernels?tab=readme-ov-file. . "
   ]
  },
  {
   "cell_type": "code",
   "execution_count": null,
   "id": "d2bf09d8-1cfa-49de-875b-ae5c4312fe93",
   "metadata": {},
   "outputs": [],
   "source": [
    "#AMIP data\n",
    "ts_amip,eis_amip,tadv_amip,rh_amip,omega_amip,ws_amip = get_data('amip')\n",
    "#historical data\n",
    "ts_hist,eis_hist,tadv_hist,rh_hist,omega_hist,ws_hist = get_data('obshist')\n",
    "#abrupt data\n",
    "ts_abrupt,eis_abrupt,tadv_abrupt,rh_abrupt,omega_abrupt,ws_abrupt = get_data('4xCO2')\n",
    "ts_fast, ts_slow = extract_abrupt(ts_abrupt)\n",
    "eis_fast, eis_slow = extract_abrupt(eis_abrupt)\n",
    "tadv_fast, tadv_slow = extract_abrupt(tadv_abrupt)\n",
    "rh_fast, rh_slow = extract_abrupt(rh_abrupt)\n",
    "omega_fast, omega_slow = extract_abrupt(omega_abrupt)\n",
    "ws_fast, ws_slow = extract_abrupt(ws_abrupt)\n",
    "\n",
    "#Kernel Data\n",
    "with open('kernel.pkl', 'rb') as f:\n",
    "    (sst_kernels, eis_kernels, tadv_kernels, rh_kernels, omega_kernels, ws_kernels,\n",
    "     sst_obs_kernels, eis_obs_kernels, tadv_obs_kernels, rh_obs_kernels, omega_obs_kernels, ws_obs_kernels) = pickle.load(f)"
   ]
  },
  {
   "cell_type": "markdown",
   "id": "ccaf5087-2e67-4f99-b8f7-8a2141551c36",
   "metadata": {},
   "source": [
    "##### dCCF/dT (d[CCF unit]]/dK)\n",
    "\n",
    "###### Smoothed with Rolling mean per every 5 years\n",
    "\n",
    "Ran `perglobts_add_cyclic_point` on account of projection discontinuity with `central_longitude=180`."
   ]
  },
  {
   "cell_type": "code",
   "execution_count": null,
   "id": "3b6a787d-f054-4c2a-91c1-deb75bbd40f5",
   "metadata": {
    "scrolled": true
   },
   "outputs": [],
   "source": [
    "# variables for the above calculations per experiment (AMIP, historical and abrupt4xCO2)\n",
    "sst_perglobts_smth = ccf_changes_perglobts(ts_amip,ts_amip, ts_hist,ts_hist,\\\n",
    "                                           ts_fast,ts_fast, ts_slow,ts_slow,smth=True) #, sst_perglobts_glob_smth, sst_perglobts_hat_smth, sst_perglobts_hat_zonal_smth, sst_perglobts_hat_glob_smth\n",
    "\n",
    "eis_perglobts_smth = ccf_changes_perglobts(ts_amip,eis_amip, ts_hist,eis_hist,\\\n",
    "                                           ts_fast,eis_fast, ts_slow,eis_slow,smth=True) # , eis_perglobts_glob_smth, eis_perglobts_hat_smth, eis_perglobts_hat_zonal_smth, eis_perglobts_hat_glob_smth\n",
    "\n",
    "tadv_perglobts_smth = ccf_changes_perglobts(ts_amip,tadv_amip, ts_hist,tadv_hist,\\\n",
    "                                            ts_fast,tadv_fast, ts_slow,tadv_slow,smth=True) #, tadv_perglobts_glob_smth, tadv_perglobts_hat_smth, tadv_perglobts_hat_zonal_smth, tadv_perglobts_hat_glob_smth\n",
    "\n",
    "rh_perglobts_smth = ccf_changes_perglobts(ts_amip,rh_amip, ts_hist,rh_hist,\\\n",
    "                                          ts_fast,rh_fast, ts_slow,rh_slow,smth=True) #, rh_perglobts_glob_smth, rh_perglobts_hat_smth, rh_perglobts_hat_zonal_smth, rh_perglobts_hat_glob_smth\n",
    "\n",
    "omega_perglobts_smth = ccf_changes_perglobts(ts_amip,omega_amip, ts_hist,omega_hist,\\\n",
    "                                             ts_fast,omega_fast, ts_slow,omega_slow,smth=True) #, omega_perglobts_glob_smth, omega_perglobts_hat_smth, omega_perglobts_hat_zonal_smth, omega_perglobts_hat_glob_smth\n",
    "\n",
    "ws_perglobts_smth = ccf_changes_perglobts(ts_amip,ws_amip, ts_hist,ws_hist,\\\n",
    "                                          ts_fast,ws_fast, ts_slow,ws_slow,smth=True) #, ws_perglobts_glob_smth, ws_perglobts_hat_smth, ws_perglobts_hat_zonal_smth, ws_perglobts_hat_glob_smth"
   ]
  },
  {
   "cell_type": "code",
   "execution_count": null,
   "id": "990b031d-1037-427e-892f-aaf997b82997",
   "metadata": {},
   "outputs": [],
   "source": [
    "# dCCF_dTg_smth = [sst_perglobts_smth,\n",
    "#             eis_perglobts_smth,\n",
    "#             tadv_perglobts_smth,\n",
    "#             rh_perglobts_smth,\n",
    "#             omega_perglobts_smth,\n",
    "#             ws_perglobts_smth]\n",
    "\n",
    "# with open('data_smth/dCCF_dTg_smoothed.pkl', 'wb') as fp:\n",
    "#     pickle.dump(dCCF_dTg_smth, fp)\n",
    "#     print('dictionary saved successfully to file')"
   ]
  },
  {
   "cell_type": "markdown",
   "id": "0cfc2017-8fac-4236-a722-8d4ba4ae28c0",
   "metadata": {},
   "source": [
    "##### dR_cloud/dT\n",
    "- `dR_ccf`,`dR_ccf_[obs]`: [lat,lon,exp] 16var - per model \n",
    "- `dR_ccf_perglobts_hat`,`dR_ccf_perglobts_hat_[obs]`: [lat,lon,exp], 1 var = (Multi-Model-Mean)MMM-ccf * kernel"
   ]
  },
  {
   "cell_type": "code",
   "execution_count": null,
   "id": "97207d5a-a398-43cf-a622-ed36e35f3f4e",
   "metadata": {},
   "outputs": [],
   "source": [
    "#  Radiative Feedbacks ccf-permodel*kernel-permod AND  ccf-permod * obs-kernel|MM-kernel \n",
    "dR_sst_perglobts,dR_sst_perglobts_ceres,dR_sst_perglobts_isccp,dR_sst_perglobts_modis,dR_sst_perglobts_patmosx,dR_sst_perglobts_mmkern = get_feedback(sst_perglobts.to_dataset(dim='model'),sst_kernels,obs_kernels=sst_obs_kernels)\n",
    "dR_eis_perglobts,dR_eis_perglobts_ceres,dR_eis_perglobts_isccp,dR_eis_perglobts_modis,dR_eis_perglobts_patmosx,dR_eis_perglobts_mmkern = get_feedback(eis_perglobts.to_dataset(dim='model'),eis_kernels,obs_kernels=eis_obs_kernels)\n",
    "dR_tadv_perglobts,dR_tadv_perglobts_ceres,dR_tadv_perglobts_isccp,dR_tadv_perglobts_modis,dR_tadv_perglobts_patmosx,dR_tadv_perglobts_mmkern = get_feedback(tadv_perglobts.to_dataset(dim='model'),tadv_kernels,obs_kernels=tadv_obs_kernels)\n",
    "dR_rh_perglobts,dR_rh_perglobts_ceres,dR_rh_perglobts_isccp,dR_rh_perglobts_modis,dR_rh_perglobts_patmosx,dR_rh_perglobts_mmkern = get_feedback(rh_perglobts.to_dataset(dim='model'),rh_kernels,obs_kernels=rh_obs_kernels)\n",
    "dR_omega_perglobts,dR_omega_perglobts_ceres,dR_omega_perglobts_isccp,dR_omega_perglobts_modis,dR_omega_perglobts_patmosx,dR_omega_perglobts_mmkern = get_feedback(omega_perglobts.to_dataset(dim='model'),omega_kernels,obs_kernels=omega_obs_kernels)\n",
    "dR_ws_perglobts,dR_ws_perglobts_ceres,dR_ws_perglobts_isccp,dR_ws_perglobts_modis,dR_ws_perglobts_patmosx,dR_ws_perglobts_mmkern = get_feedback(ws_perglobts.to_dataset(dim='model'),ws_kernels,obs_kernels=ws_obs_kernels)"
   ]
  },
  {
   "cell_type": "code",
   "execution_count": null,
   "id": "549aed00-7012-4d1a-a411-882f861c5aa6",
   "metadata": {},
   "outputs": [],
   "source": [
    "#  Radiative Feedbacks [model, lat,lon,exp] MMM-ccf*kernel-permod - showing model kernel spread  \n",
    "dR_sst_perglobts_mmccf = get_feedback(ensemble_mean(sst_perglobts),sst_kernels).to_array(dim='model')\n",
    "dR_eis_perglobts_mmccf = get_feedback(ensemble_mean(eis_perglobts),eis_kernels).to_array(dim='model')\n",
    "dR_tadv_perglobts_mmccf = get_feedback(ensemble_mean(tadv_perglobts),tadv_kernels).to_array(dim='model')\n",
    "dR_rh_perglobts_mmccf= get_feedback(ensemble_mean(rh_perglobts),rh_kernels).to_array(dim='model')\n",
    "dR_omega_perglobts_mmccf = get_feedback(ensemble_mean(omega_perglobts),omega_kernels).to_array(dim='model')\n",
    "dR_ws_perglobts_mmccf = get_feedback(ensemble_mean(ws_perglobts),ws_kernels).to_array(dim='model')"
   ]
  },
  {
   "cell_type": "code",
   "execution_count": null,
   "id": "c1391ab0-43ae-4f59-92a0-87cca7f508ca",
   "metadata": {},
   "outputs": [],
   "source": [
    "# dR [model,exp,lat,lon] - with 6+1 ccfs (from ccf-permod * kernel-permod) \n",
    "dR_modelccf_modelkern = ccf_feedbacks(dR_sst_perglobts,dR_eis_perglobts,dR_tadv_perglobts,dR_rh_perglobts,dR_omega_perglobts,dR_ws_perglobts)\n",
    "dR_modelccf_cereskern = ccf_feedbacks(dR_sst_perglobts_ceres,dR_eis_perglobts_ceres,dR_tadv_perglobts_ceres,dR_rh_perglobts_ceres,dR_omega_perglobts_ceres,dR_ws_perglobts_ceres)\n",
    "dR_modelccf_isccpkern = ccf_feedbacks(dR_sst_perglobts_isccp,dR_eis_perglobts_isccp,dR_tadv_perglobts_isccp,dR_rh_perglobts_isccp,dR_omega_perglobts_isccp,dR_ws_perglobts_isccp)\n",
    "dR_modelccf_modiskern = ccf_feedbacks(dR_sst_perglobts_modis,dR_eis_perglobts_modis,dR_tadv_perglobts_modis,dR_rh_perglobts_modis,dR_omega_perglobts_modis,dR_ws_perglobts_modis)\n",
    "dR_modelccf_patmoskern = ccf_feedbacks(dR_sst_perglobts_patmosx,dR_eis_perglobts_patmosx,dR_tadv_perglobts_patmosx,dR_rh_perglobts_patmosx,dR_omega_perglobts_patmosx,dR_ws_perglobts_patmosx)\n",
    "\n",
    "dR_modelccf_mmkern = ccf_feedbacks(dR_sst_perglobts_mmkern,dR_eis_perglobts_mmkern,dR_tadv_perglobts_mmkern,dR_rh_perglobts_mmkern,dR_omega_perglobts_mmkern,dR_ws_perglobts_mmkern)\n",
    "dR_mmccf_modelkern = ccf_feedbacks(dR_sst_perglobts_mmccf,dR_eis_perglobts_mmccf,dR_tadv_perglobts_mmccf,dR_rh_perglobts_mmccf,dR_omega_perglobts_mmccf,dR_ws_perglobts_mmccf)\n",
    "\n",
    "# glob values for fig1 [model,exp] - with 6+1 ccf+tot\n",
    "dR_glob_modelccf_modelkern = spatial_weighted_mean(dR_modelccf_modelkern)\n",
    "dR_glob_modelccf_cereskern = spatial_weighted_mean(dR_modelccf_cereskern)\n",
    "dR_glob_modelccf_isccpkern = spatial_weighted_mean(dR_modelccf_isccpkern)\n",
    "dR_glob_modelccf_modiskern = spatial_weighted_mean(dR_modelccf_modiskern)\n",
    "dR_glob_modelccf_patmoskern = spatial_weighted_mean(dR_modelccf_patmoskern)\n",
    "dR_glob_modelccf_mmkern = spatial_weighted_mean(dR_modelccf_mmkern)\n",
    "dR_glob_mmccf_modelkern = spatial_weighted_mean(dR_mmccf_modelkern)\n",
    "\n",
    "## MMM of feedback (from ccf-permod * kernel-permod) (Spatial Maps)\n",
    "dR_modelccf_modelkern_hat, dR_modelccf_modelkern_hat_zonal = hat_and_zonal(dR_modelccf_modelkern)"
   ]
  },
  {
   "cell_type": "code",
   "execution_count": null,
   "id": "be9f7a28-095a-4be1-81dd-f5aca759a48d",
   "metadata": {},
   "outputs": [],
   "source": [
    "# df = dR_glob_modelccf_modelkern.to_dataframe().reset_index()\n",
    "\n",
    "# df_ceres = dR_glob_modelccf_cereskern.to_dataframe().reset_index()\n",
    "# df_isccp = dR_glob_modelccf_isccpkern.to_dataframe().reset_index()\n",
    "# df_modis = dR_glob_modelccf_modiskern.to_dataframe().reset_index()\n",
    "# df_patmos = dR_glob_modelccf_patmoskern.to_dataframe().reset_index()\n",
    "\n",
    "# df_mmkern = dR_glob_modelccf_mmkern.to_dataframe().reset_index()\n",
    "# df_mmccf = dR_glob_mmccf_modelkern.to_dataframe().reset_index() \n",
    "\n",
    "# df.to_csv('df.csv')\n",
    "# df_ceres.to_csv('df_ceres.csv')\n",
    "# df_isccp.to_csv('df_isccp.csv')\n",
    "# df_modis.to_csv('df_modis.csv')\n",
    "# df_patmos.to_csv('df_patmosx.csv')\n",
    "# df_mmccf.to_csv('df_mmccf.csv')\n",
    "# df_mmkern.to_csv('df_mmkern.csv')"
   ]
  },
  {
   "cell_type": "markdown",
   "id": "3aea44fb-618e-4720-83cc-844eba3813ae",
   "metadata": {},
   "source": [
    "##### Var(dR_cloud/dT)"
   ]
  },
  {
   "cell_type": "code",
   "execution_count": null,
   "id": "94ac7d67-107c-41b9-914f-25321fb4b284",
   "metadata": {},
   "outputs": [],
   "source": [
    "# Variance for each dR_ccf (for supp plots)\n",
    "var_dR_sst = indv_var_calc(sst_kernels,sst_perglobts,dR_modelccf_modelkern,\"sst\")\n",
    "var_dR_eis = indv_var_calc(eis_kernels,eis_perglobts,dR_modelccf_modelkern,\"eis\")\n",
    "var_dR_tadv = indv_var_calc(tadv_kernels,tadv_perglobts,dR_modelccf_modelkern,\"tadv\")\n",
    "var_dR_rh = indv_var_calc(rh_kernels,rh_perglobts,dR_modelccf_modelkern,\"rh\")\n",
    "var_dR_omega = indv_var_calc(omega_kernels,omega_perglobts,dR_modelccf_modelkern,\"omega\")\n",
    "var_dR_ws = indv_var_calc(ws_kernels,ws_perglobts,dR_modelccf_modelkern,\"ws\")"
   ]
  },
  {
   "cell_type": "code",
   "execution_count": null,
   "id": "db09edf2-30e9-473a-a2d8-2d56ed71c172",
   "metadata": {},
   "outputs": [],
   "source": [
    "## Calculate for tot  \n",
    "dR_sst_kp_cp,dR_sst_km_cp,dR_sst_kp_cm,dR_sst_km_cm = prime_mmm_calc(sst_kernels,sst_perglobts)\n",
    "dR_eis_kp_cp,dR_eis_km_cp,dR_eis_kp_cm,dR_eis_km_cm = prime_mmm_calc(eis_kernels,eis_perglobts)\n",
    "dR_tadv_kp_cp,dR_tadv_km_cp,dR_tadv_kp_cm,dR_tadv_km_cm = prime_mmm_calc(tadv_kernels,tadv_perglobts)\n",
    "dR_rh_kp_cp,dR_rh_km_cp,dR_rh_kp_cm,dR_rh_km_cm = prime_mmm_calc(rh_kernels,rh_perglobts)\n",
    "dR_omega_kp_cp,dR_omega_km_cp,dR_omega_kp_cm,dR_omega_km_cm = prime_mmm_calc(omega_kernels,omega_perglobts)\n",
    "dR_ws_kp_cp,dR_ws_km_cp,dR_ws_kp_cm,dR_ws_km_cm = prime_mmm_calc(ws_kernels,ws_perglobts)\n",
    "\n",
    "dR_modk_modc_var = (dR_modelccf_modelkern['tot'].var('model')).compute() #col1\n",
    "\n",
    "tot_kp_cm = dR_sst_kp_cm+dR_eis_kp_cm+dR_tadv_kp_cm+dR_rh_kp_cm+dR_omega_kp_cm+dR_ws_kp_cm\n",
    "tot_kp_cm_var = tot_kp_cm.var(dim='model').compute() #col2\n",
    "tot_km_cp = dR_sst_km_cp+dR_eis_km_cp+dR_tadv_km_cp+dR_rh_km_cp+dR_omega_km_cp+dR_ws_km_cp\n",
    "tot_km_cp_var = tot_km_cp.var(dim='model').compute() #col3\n",
    "\n",
    "tot_aprx_var =  (tot_km_cp+tot_kp_cm).var(dim='model').compute()\n",
    "var_diff = (dR_modk_modc_var - tot_aprx_var).compute() #col4 "
   ]
  },
  {
   "cell_type": "code",
   "execution_count": null,
   "id": "5333cb38-84ad-4566-a1a8-a55c0172b999",
   "metadata": {},
   "outputs": [],
   "source": [
    "# dR_ccf_var = [var_dR_sst,var_dR_eis,var_dR_tadv,var_dR_rh,var_dR_omega,var_dR_ws]\n",
    "# with open('dR_ccf_var.pkl', 'wb') as fp:\n",
    "#     pickle.dump(dR_ccf_var, fp)\n",
    "#     print('dictionary saved successfully to file')\n",
    "\n",
    "# dR_tot_var = [dR_modk_modc_var,tot_kp_cm_var,tot_km_cp_var,var_diff]\n",
    "# with open('dR_tot_var.pkl', 'wb') as fp:\n",
    "#     pickle.dump(dR_tot_var, fp)\n",
    "#     print('dictionary saved successfully to file')"
   ]
  }
 ],
 "metadata": {
  "kernelspec": {
   "display_name": "Python 3 (ipykernel)",
   "language": "python",
   "name": "python3"
  },
  "language_info": {
   "codemirror_mode": {
    "name": "ipython",
    "version": 3
   },
   "file_extension": ".py",
   "mimetype": "text/x-python",
   "name": "python",
   "nbconvert_exporter": "python",
   "pygments_lexer": "ipython3",
   "version": "3.11.7"
  }
 },
 "nbformat": 4,
 "nbformat_minor": 5
}
